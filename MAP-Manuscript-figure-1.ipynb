{
 "cells": [
  {
   "cell_type": "code",
   "execution_count": null,
   "metadata": {},
   "outputs": [],
   "source": []
  },
  {
   "cell_type": "code",
   "execution_count": 37,
   "metadata": {},
   "outputs": [],
   "source": [
    "import pandas as pd\n",
    "import numpy as np \n",
    "import sys\n",
    "\n",
    "df = pd.read_csv('/Users/sergiomares/Desktop/Pseudomonas BlastN full length sequences aligned.fas',delimiter = ' ',header = None)\n",
    "df1 = []\n",
    "\n",
    "for line in df[0]:\n",
    "    if len(line) == 468:\n",
    "        df1.append(line)"
   ]
  },
  {
   "cell_type": "code",
   "execution_count": 41,
   "metadata": {},
   "outputs": [],
   "source": [
    "df1 = pd.DataFrame(df1)"
   ]
  },
  {
   "cell_type": "code",
   "execution_count": 182,
   "metadata": {},
   "outputs": [
    {
     "data": {
      "text/html": [
       "<div>\n",
       "<style scoped>\n",
       "    .dataframe tbody tr th:only-of-type {\n",
       "        vertical-align: middle;\n",
       "    }\n",
       "\n",
       "    .dataframe tbody tr th {\n",
       "        vertical-align: top;\n",
       "    }\n",
       "\n",
       "    .dataframe thead th {\n",
       "        text-align: right;\n",
       "    }\n",
       "</style>\n",
       "<table border=\"1\" class=\"dataframe\">\n",
       "  <thead>\n",
       "    <tr style=\"text-align: right;\">\n",
       "      <th></th>\n",
       "      <th>0</th>\n",
       "    </tr>\n",
       "  </thead>\n",
       "  <tbody>\n",
       "    <tr>\n",
       "      <th>0</th>\n",
       "      <td>ATGTCCGTTTTCGATTCGCGTCAAAAGACTTCCGCCAGCCTGCTCG...</td>\n",
       "    </tr>\n",
       "    <tr>\n",
       "      <th>1</th>\n",
       "      <td>ATGTCCGTTTTCGATTCGCGTCAAAAGACTTCCGCCAGCCTGCTCG...</td>\n",
       "    </tr>\n",
       "    <tr>\n",
       "      <th>2</th>\n",
       "      <td>ATGTCCGTTTTCGATTCGCGTCAAAAGACTTCCGCCAGCCTGCTCG...</td>\n",
       "    </tr>\n",
       "    <tr>\n",
       "      <th>3</th>\n",
       "      <td>ATGTCCGTTTTCGATTCGCGTCAAAAGACTTCCGCTAGCCTGCTCG...</td>\n",
       "    </tr>\n",
       "    <tr>\n",
       "      <th>4</th>\n",
       "      <td>ATGTCCGTTTTCGATTCGCGTCAAAAGACTTCCGCCAGCCTGCTCG...</td>\n",
       "    </tr>\n",
       "    <tr>\n",
       "      <th>...</th>\n",
       "      <td>...</td>\n",
       "    </tr>\n",
       "    <tr>\n",
       "      <th>494</th>\n",
       "      <td>ATGTCCGTTTTCGATTCGCGTCAAAAGACTTCCGCCAGCCTGCTCG...</td>\n",
       "    </tr>\n",
       "    <tr>\n",
       "      <th>495</th>\n",
       "      <td>ATGTCCGTTTTCGATTCGCGTCAAAAGACTTCCGCCAGCCTGCTCG...</td>\n",
       "    </tr>\n",
       "    <tr>\n",
       "      <th>496</th>\n",
       "      <td>ATGTCCGTTTTCGATTCGCGTCAAAAGACTTCCGCCAGCCTGCTCG...</td>\n",
       "    </tr>\n",
       "    <tr>\n",
       "      <th>497</th>\n",
       "      <td>ATGTCCGTTTTCGATTCGCGTCAAAAGACTTCCGCCAGCCTGCTCG...</td>\n",
       "    </tr>\n",
       "    <tr>\n",
       "      <th>498</th>\n",
       "      <td>ATGTCCGTTTTCGATTCGCGTCAAAAGACTTCCGCCAGCCTGCTCG...</td>\n",
       "    </tr>\n",
       "  </tbody>\n",
       "</table>\n",
       "<p>499 rows × 1 columns</p>\n",
       "</div>"
      ],
      "text/plain": [
       "                                                     0\n",
       "0    ATGTCCGTTTTCGATTCGCGTCAAAAGACTTCCGCCAGCCTGCTCG...\n",
       "1    ATGTCCGTTTTCGATTCGCGTCAAAAGACTTCCGCCAGCCTGCTCG...\n",
       "2    ATGTCCGTTTTCGATTCGCGTCAAAAGACTTCCGCCAGCCTGCTCG...\n",
       "3    ATGTCCGTTTTCGATTCGCGTCAAAAGACTTCCGCTAGCCTGCTCG...\n",
       "4    ATGTCCGTTTTCGATTCGCGTCAAAAGACTTCCGCCAGCCTGCTCG...\n",
       "..                                                 ...\n",
       "494  ATGTCCGTTTTCGATTCGCGTCAAAAGACTTCCGCCAGCCTGCTCG...\n",
       "495  ATGTCCGTTTTCGATTCGCGTCAAAAGACTTCCGCCAGCCTGCTCG...\n",
       "496  ATGTCCGTTTTCGATTCGCGTCAAAAGACTTCCGCCAGCCTGCTCG...\n",
       "497  ATGTCCGTTTTCGATTCGCGTCAAAAGACTTCCGCCAGCCTGCTCG...\n",
       "498  ATGTCCGTTTTCGATTCGCGTCAAAAGACTTCCGCCAGCCTGCTCG...\n",
       "\n",
       "[499 rows x 1 columns]"
      ]
     },
     "execution_count": 182,
     "metadata": {},
     "output_type": "execute_result"
    }
   ],
   "source": [
    "df1"
   ]
  },
  {
   "cell_type": "code",
   "execution_count": 220,
   "metadata": {},
   "outputs": [
    {
     "ename": "ConversionError",
     "evalue": "Failed to convert value(s) to axis units: 'G'",
     "output_type": "error",
     "traceback": [
      "\u001b[0;31m---------------------------------------------------------------------------\u001b[0m",
      "\u001b[0;31mValueError\u001b[0m                                Traceback (most recent call last)",
      "File \u001b[0;32m~/miniconda3/envs/tf/lib/python3.9/site-packages/matplotlib/axis.py:1506\u001b[0m, in \u001b[0;36mAxis.convert_units\u001b[0;34m(self, x)\u001b[0m\n\u001b[1;32m   <a href='file:///Users/sergiomares/miniconda3/envs/tf/lib/python3.9/site-packages/matplotlib/axis.py?line=1504'>1505</a>\u001b[0m \u001b[39mtry\u001b[39;00m:\n\u001b[0;32m-> <a href='file:///Users/sergiomares/miniconda3/envs/tf/lib/python3.9/site-packages/matplotlib/axis.py?line=1505'>1506</a>\u001b[0m     ret \u001b[39m=\u001b[39m \u001b[39mself\u001b[39;49m\u001b[39m.\u001b[39;49mconverter\u001b[39m.\u001b[39;49mconvert(x, \u001b[39mself\u001b[39;49m\u001b[39m.\u001b[39;49munits, \u001b[39mself\u001b[39;49m)\n\u001b[1;32m   <a href='file:///Users/sergiomares/miniconda3/envs/tf/lib/python3.9/site-packages/matplotlib/axis.py?line=1506'>1507</a>\u001b[0m \u001b[39mexcept\u001b[39;00m \u001b[39mException\u001b[39;00m \u001b[39mas\u001b[39;00m e:\n",
      "File \u001b[0;32m~/miniconda3/envs/tf/lib/python3.9/site-packages/matplotlib/category.py:49\u001b[0m, in \u001b[0;36mStrCategoryConverter.convert\u001b[0;34m(value, unit, axis)\u001b[0m\n\u001b[1;32m     <a href='file:///Users/sergiomares/miniconda3/envs/tf/lib/python3.9/site-packages/matplotlib/category.py?line=47'>48</a>\u001b[0m \u001b[39mif\u001b[39;00m unit \u001b[39mis\u001b[39;00m \u001b[39mNone\u001b[39;00m:\n\u001b[0;32m---> <a href='file:///Users/sergiomares/miniconda3/envs/tf/lib/python3.9/site-packages/matplotlib/category.py?line=48'>49</a>\u001b[0m     \u001b[39mraise\u001b[39;00m \u001b[39mValueError\u001b[39;00m(\n\u001b[1;32m     <a href='file:///Users/sergiomares/miniconda3/envs/tf/lib/python3.9/site-packages/matplotlib/category.py?line=49'>50</a>\u001b[0m         \u001b[39m'\u001b[39m\u001b[39mMissing category information for StrCategoryConverter; \u001b[39m\u001b[39m'\u001b[39m\n\u001b[1;32m     <a href='file:///Users/sergiomares/miniconda3/envs/tf/lib/python3.9/site-packages/matplotlib/category.py?line=50'>51</a>\u001b[0m         \u001b[39m'\u001b[39m\u001b[39mthis might be caused by unintendedly mixing categorical and \u001b[39m\u001b[39m'\u001b[39m\n\u001b[1;32m     <a href='file:///Users/sergiomares/miniconda3/envs/tf/lib/python3.9/site-packages/matplotlib/category.py?line=51'>52</a>\u001b[0m         \u001b[39m'\u001b[39m\u001b[39mnumeric data\u001b[39m\u001b[39m'\u001b[39m)\n\u001b[1;32m     <a href='file:///Users/sergiomares/miniconda3/envs/tf/lib/python3.9/site-packages/matplotlib/category.py?line=52'>53</a>\u001b[0m StrCategoryConverter\u001b[39m.\u001b[39m_validate_unit(unit)\n",
      "\u001b[0;31mValueError\u001b[0m: Missing category information for StrCategoryConverter; this might be caused by unintendedly mixing categorical and numeric data",
      "\nThe above exception was the direct cause of the following exception:\n",
      "\u001b[0;31mConversionError\u001b[0m                           Traceback (most recent call last)",
      "\u001b[1;32mUntitled-1.ipynb Cell 5'\u001b[0m in \u001b[0;36m<cell line: 4>\u001b[0;34m()\u001b[0m\n\u001b[1;32m      <a href='vscode-notebook-cell:Untitled-1.ipynb?jupyter-notebook#ch0000003untitled?line=0'>1</a>\u001b[0m fig, ax \u001b[39m=\u001b[39m plt\u001b[39m.\u001b[39msubplots()\n\u001b[1;32m      <a href='vscode-notebook-cell:Untitled-1.ipynb?jupyter-notebook#ch0000003untitled?line=2'>3</a>\u001b[0m ax\u001b[39m.\u001b[39mbar(a[\u001b[39m59\u001b[39m], \u001b[39m500\u001b[39m, label \u001b[39m=\u001b[39m \u001b[39m\"\u001b[39m\u001b[39mG\u001b[39m\u001b[39m\"\u001b[39m)\n\u001b[0;32m----> <a href='vscode-notebook-cell:Untitled-1.ipynb?jupyter-notebook#ch0000003untitled?line=3'>4</a>\u001b[0m ax\u001b[39m.\u001b[39;49mbar(a[\u001b[39m59\u001b[39;49m], \u001b[39m500\u001b[39;49m, bottom \u001b[39m=\u001b[39;49m \u001b[39m\"\u001b[39;49m\u001b[39mG\u001b[39;49m\u001b[39m\"\u001b[39;49m, label \u001b[39m=\u001b[39;49m \u001b[39m\"\u001b[39;49m\u001b[39mA\u001b[39;49m\u001b[39m\"\u001b[39;49m)\n\u001b[1;32m      <a href='vscode-notebook-cell:Untitled-1.ipynb?jupyter-notebook#ch0000003untitled?line=5'>6</a>\u001b[0m plt\u001b[39m.\u001b[39mshow()\n",
      "File \u001b[0;32m~/miniconda3/envs/tf/lib/python3.9/site-packages/matplotlib/__init__.py:1412\u001b[0m, in \u001b[0;36m_preprocess_data.<locals>.inner\u001b[0;34m(ax, data, *args, **kwargs)\u001b[0m\n\u001b[1;32m   <a href='file:///Users/sergiomares/miniconda3/envs/tf/lib/python3.9/site-packages/matplotlib/__init__.py?line=1408'>1409</a>\u001b[0m \u001b[39m@functools\u001b[39m\u001b[39m.\u001b[39mwraps(func)\n\u001b[1;32m   <a href='file:///Users/sergiomares/miniconda3/envs/tf/lib/python3.9/site-packages/matplotlib/__init__.py?line=1409'>1410</a>\u001b[0m \u001b[39mdef\u001b[39;00m \u001b[39minner\u001b[39m(ax, \u001b[39m*\u001b[39margs, data\u001b[39m=\u001b[39m\u001b[39mNone\u001b[39;00m, \u001b[39m*\u001b[39m\u001b[39m*\u001b[39mkwargs):\n\u001b[1;32m   <a href='file:///Users/sergiomares/miniconda3/envs/tf/lib/python3.9/site-packages/matplotlib/__init__.py?line=1410'>1411</a>\u001b[0m     \u001b[39mif\u001b[39;00m data \u001b[39mis\u001b[39;00m \u001b[39mNone\u001b[39;00m:\n\u001b[0;32m-> <a href='file:///Users/sergiomares/miniconda3/envs/tf/lib/python3.9/site-packages/matplotlib/__init__.py?line=1411'>1412</a>\u001b[0m         \u001b[39mreturn\u001b[39;00m func(ax, \u001b[39m*\u001b[39;49m\u001b[39mmap\u001b[39;49m(sanitize_sequence, args), \u001b[39m*\u001b[39;49m\u001b[39m*\u001b[39;49mkwargs)\n\u001b[1;32m   <a href='file:///Users/sergiomares/miniconda3/envs/tf/lib/python3.9/site-packages/matplotlib/__init__.py?line=1413'>1414</a>\u001b[0m     bound \u001b[39m=\u001b[39m new_sig\u001b[39m.\u001b[39mbind(ax, \u001b[39m*\u001b[39margs, \u001b[39m*\u001b[39m\u001b[39m*\u001b[39mkwargs)\n\u001b[1;32m   <a href='file:///Users/sergiomares/miniconda3/envs/tf/lib/python3.9/site-packages/matplotlib/__init__.py?line=1414'>1415</a>\u001b[0m     auto_label \u001b[39m=\u001b[39m (bound\u001b[39m.\u001b[39marguments\u001b[39m.\u001b[39mget(label_namer)\n\u001b[1;32m   <a href='file:///Users/sergiomares/miniconda3/envs/tf/lib/python3.9/site-packages/matplotlib/__init__.py?line=1415'>1416</a>\u001b[0m                   \u001b[39mor\u001b[39;00m bound\u001b[39m.\u001b[39mkwargs\u001b[39m.\u001b[39mget(label_namer))\n",
      "File \u001b[0;32m~/miniconda3/envs/tf/lib/python3.9/site-packages/matplotlib/axes/_axes.py:2337\u001b[0m, in \u001b[0;36mAxes.bar\u001b[0;34m(self, x, height, width, bottom, align, **kwargs)\u001b[0m\n\u001b[1;32m   <a href='file:///Users/sergiomares/miniconda3/envs/tf/lib/python3.9/site-packages/matplotlib/axes/_axes.py?line=2334'>2335</a>\u001b[0m \u001b[39mif\u001b[39;00m \u001b[39mself\u001b[39m\u001b[39m.\u001b[39myaxis \u001b[39mis\u001b[39;00m \u001b[39mnot\u001b[39;00m \u001b[39mNone\u001b[39;00m:\n\u001b[1;32m   <a href='file:///Users/sergiomares/miniconda3/envs/tf/lib/python3.9/site-packages/matplotlib/axes/_axes.py?line=2335'>2336</a>\u001b[0m     y0 \u001b[39m=\u001b[39m y\n\u001b[0;32m-> <a href='file:///Users/sergiomares/miniconda3/envs/tf/lib/python3.9/site-packages/matplotlib/axes/_axes.py?line=2336'>2337</a>\u001b[0m     y \u001b[39m=\u001b[39m np\u001b[39m.\u001b[39masarray(\u001b[39mself\u001b[39;49m\u001b[39m.\u001b[39;49mconvert_yunits(y))\n\u001b[1;32m   <a href='file:///Users/sergiomares/miniconda3/envs/tf/lib/python3.9/site-packages/matplotlib/axes/_axes.py?line=2337'>2338</a>\u001b[0m     height \u001b[39m=\u001b[39m \u001b[39mself\u001b[39m\u001b[39m.\u001b[39m_convert_dx(height, y0, y, \u001b[39mself\u001b[39m\u001b[39m.\u001b[39mconvert_yunits)\n\u001b[1;32m   <a href='file:///Users/sergiomares/miniconda3/envs/tf/lib/python3.9/site-packages/matplotlib/axes/_axes.py?line=2338'>2339</a>\u001b[0m     \u001b[39mif\u001b[39;00m yerr \u001b[39mis\u001b[39;00m \u001b[39mnot\u001b[39;00m \u001b[39mNone\u001b[39;00m:\n",
      "File \u001b[0;32m~/miniconda3/envs/tf/lib/python3.9/site-packages/matplotlib/artist.py:264\u001b[0m, in \u001b[0;36mArtist.convert_yunits\u001b[0;34m(self, y)\u001b[0m\n\u001b[1;32m    <a href='file:///Users/sergiomares/miniconda3/envs/tf/lib/python3.9/site-packages/matplotlib/artist.py?line=261'>262</a>\u001b[0m \u001b[39mif\u001b[39;00m ax \u001b[39mis\u001b[39;00m \u001b[39mNone\u001b[39;00m \u001b[39mor\u001b[39;00m ax\u001b[39m.\u001b[39myaxis \u001b[39mis\u001b[39;00m \u001b[39mNone\u001b[39;00m:\n\u001b[1;32m    <a href='file:///Users/sergiomares/miniconda3/envs/tf/lib/python3.9/site-packages/matplotlib/artist.py?line=262'>263</a>\u001b[0m     \u001b[39mreturn\u001b[39;00m y\n\u001b[0;32m--> <a href='file:///Users/sergiomares/miniconda3/envs/tf/lib/python3.9/site-packages/matplotlib/artist.py?line=263'>264</a>\u001b[0m \u001b[39mreturn\u001b[39;00m ax\u001b[39m.\u001b[39;49myaxis\u001b[39m.\u001b[39;49mconvert_units(y)\n",
      "File \u001b[0;32m~/miniconda3/envs/tf/lib/python3.9/site-packages/matplotlib/axis.py:1508\u001b[0m, in \u001b[0;36mAxis.convert_units\u001b[0;34m(self, x)\u001b[0m\n\u001b[1;32m   <a href='file:///Users/sergiomares/miniconda3/envs/tf/lib/python3.9/site-packages/matplotlib/axis.py?line=1505'>1506</a>\u001b[0m     ret \u001b[39m=\u001b[39m \u001b[39mself\u001b[39m\u001b[39m.\u001b[39mconverter\u001b[39m.\u001b[39mconvert(x, \u001b[39mself\u001b[39m\u001b[39m.\u001b[39munits, \u001b[39mself\u001b[39m)\n\u001b[1;32m   <a href='file:///Users/sergiomares/miniconda3/envs/tf/lib/python3.9/site-packages/matplotlib/axis.py?line=1506'>1507</a>\u001b[0m \u001b[39mexcept\u001b[39;00m \u001b[39mException\u001b[39;00m \u001b[39mas\u001b[39;00m e:\n\u001b[0;32m-> <a href='file:///Users/sergiomares/miniconda3/envs/tf/lib/python3.9/site-packages/matplotlib/axis.py?line=1507'>1508</a>\u001b[0m     \u001b[39mraise\u001b[39;00m munits\u001b[39m.\u001b[39mConversionError(\u001b[39m'\u001b[39m\u001b[39mFailed to convert value(s) to axis \u001b[39m\u001b[39m'\u001b[39m\n\u001b[1;32m   <a href='file:///Users/sergiomares/miniconda3/envs/tf/lib/python3.9/site-packages/matplotlib/axis.py?line=1508'>1509</a>\u001b[0m                                  \u001b[39mf\u001b[39m\u001b[39m'\u001b[39m\u001b[39munits: \u001b[39m\u001b[39m{\u001b[39;00mx\u001b[39m!r}\u001b[39;00m\u001b[39m'\u001b[39m) \u001b[39mfrom\u001b[39;00m \u001b[39me\u001b[39;00m\n\u001b[1;32m   <a href='file:///Users/sergiomares/miniconda3/envs/tf/lib/python3.9/site-packages/matplotlib/axis.py?line=1509'>1510</a>\u001b[0m \u001b[39mreturn\u001b[39;00m ret\n",
      "\u001b[0;31mConversionError\u001b[0m: Failed to convert value(s) to axis units: 'G'"
     ]
    },
    {
     "data": {
      "image/png": "[encoded data removed]",
      "text/plain": [
       "<Figure size 432x288 with 1 Axes>"
      ]
     },
     "metadata": {
      "needs_background": "light"
     },
     "output_type": "display_data"
    }
   ],
   "source": [
    "fig, ax = plt.subplots()\n",
    "\n",
    "ax.bar(a[59], 500, label = \"G\")\n",
    "ax.bar(a[59], 500, bottom = \"G\", label = \"A\")\n",
    "\n",
    "plt.show()"
   ]
  },
  {
   "cell_type": "code",
   "execution_count": 212,
   "metadata": {},
   "outputs": [
    {
     "data": {
      "text/plain": [
       "140    A\n",
       "150    A\n",
       "151    A\n",
       "163    A\n",
       "Name: 59, dtype: object"
      ]
     },
     "execution_count": 212,
     "metadata": {},
     "output_type": "execute_result"
    }
   ],
   "source": [
    "a[59].loc[a[59] != \"G\"]"
   ]
  },
  {
   "cell_type": "code",
   "execution_count": 184,
   "metadata": {},
   "outputs": [],
   "source": [
    "a = []\n",
    "\n",
    "for sequence in df1[0]:\n",
    "    a.append(list(sequence))\n"
   ]
  },
  {
   "cell_type": "code",
   "execution_count": 185,
   "metadata": {},
   "outputs": [],
   "source": [
    "a = pd.DataFrame(a)"
   ]
  },
  {
   "cell_type": "code",
   "execution_count": 100,
   "metadata": {},
   "outputs": [],
   "source": [
    "dic = {'A':0, 'C':1,'T':2,'G':3}"
   ]
  },
  {
   "cell_type": "code",
   "execution_count": 102,
   "metadata": {},
   "outputs": [],
   "source": [
    "a = a.replace(dic)"
   ]
  },
  {
   "cell_type": "code",
   "execution_count": 241,
   "metadata": {},
   "outputs": [],
   "source": [
    "counts = a.apply(lambda x: x.value_counts() / len(x)).transpose()"
   ]
  },
  {
   "cell_type": "code",
   "execution_count": 254,
   "metadata": {},
   "outputs": [
    {
     "data": {
      "text/html": [
       "<div>\n",
       "<style scoped>\n",
       "    .dataframe tbody tr th:only-of-type {\n",
       "        vertical-align: middle;\n",
       "    }\n",
       "\n",
       "    .dataframe tbody tr th {\n",
       "        vertical-align: top;\n",
       "    }\n",
       "\n",
       "    .dataframe thead th {\n",
       "        text-align: right;\n",
       "    }\n",
       "</style>\n",
       "<table border=\"1\" class=\"dataframe\">\n",
       "  <thead>\n",
       "    <tr style=\"text-align: right;\">\n",
       "      <th></th>\n",
       "      <th>-</th>\n",
       "      <th>A</th>\n",
       "      <th>C</th>\n",
       "      <th>G</th>\n",
       "      <th>T</th>\n",
       "    </tr>\n",
       "  </thead>\n",
       "  <tbody>\n",
       "    <tr>\n",
       "      <th>65</th>\n",
       "      <td>NaN</td>\n",
       "      <td>0.985972</td>\n",
       "      <td>NaN</td>\n",
       "      <td>0.014028</td>\n",
       "      <td>NaN</td>\n",
       "    </tr>\n",
       "    <tr>\n",
       "      <th>66</th>\n",
       "      <td>NaN</td>\n",
       "      <td>0.997996</td>\n",
       "      <td>NaN</td>\n",
       "      <td>0.002004</td>\n",
       "      <td>NaN</td>\n",
       "    </tr>\n",
       "    <tr>\n",
       "      <th>67</th>\n",
       "      <td>NaN</td>\n",
       "      <td>NaN</td>\n",
       "      <td>NaN</td>\n",
       "      <td>NaN</td>\n",
       "      <td>1.0</td>\n",
       "    </tr>\n",
       "    <tr>\n",
       "      <th>68</th>\n",
       "      <td>NaN</td>\n",
       "      <td>NaN</td>\n",
       "      <td>NaN</td>\n",
       "      <td>1.000000</td>\n",
       "      <td>NaN</td>\n",
       "    </tr>\n",
       "    <tr>\n",
       "      <th>69</th>\n",
       "      <td>NaN</td>\n",
       "      <td>NaN</td>\n",
       "      <td>1.0</td>\n",
       "      <td>NaN</td>\n",
       "      <td>NaN</td>\n",
       "    </tr>\n",
       "    <tr>\n",
       "      <th>...</th>\n",
       "      <td>...</td>\n",
       "      <td>...</td>\n",
       "      <td>...</td>\n",
       "      <td>...</td>\n",
       "      <td>...</td>\n",
       "    </tr>\n",
       "    <tr>\n",
       "      <th>463</th>\n",
       "      <td>NaN</td>\n",
       "      <td>1.000000</td>\n",
       "      <td>NaN</td>\n",
       "      <td>NaN</td>\n",
       "      <td>NaN</td>\n",
       "    </tr>\n",
       "    <tr>\n",
       "      <th>464</th>\n",
       "      <td>NaN</td>\n",
       "      <td>NaN</td>\n",
       "      <td>1.0</td>\n",
       "      <td>NaN</td>\n",
       "      <td>NaN</td>\n",
       "    </tr>\n",
       "    <tr>\n",
       "      <th>465</th>\n",
       "      <td>NaN</td>\n",
       "      <td>NaN</td>\n",
       "      <td>NaN</td>\n",
       "      <td>NaN</td>\n",
       "      <td>1.0</td>\n",
       "    </tr>\n",
       "    <tr>\n",
       "      <th>466</th>\n",
       "      <td>NaN</td>\n",
       "      <td>NaN</td>\n",
       "      <td>NaN</td>\n",
       "      <td>1.000000</td>\n",
       "      <td>NaN</td>\n",
       "    </tr>\n",
       "    <tr>\n",
       "      <th>467</th>\n",
       "      <td>NaN</td>\n",
       "      <td>1.000000</td>\n",
       "      <td>NaN</td>\n",
       "      <td>NaN</td>\n",
       "      <td>NaN</td>\n",
       "    </tr>\n",
       "  </tbody>\n",
       "</table>\n",
       "<p>403 rows × 5 columns</p>\n",
       "</div>"
      ],
      "text/plain": [
       "      -         A    C         G    T\n",
       "65  NaN  0.985972  NaN  0.014028  NaN\n",
       "66  NaN  0.997996  NaN  0.002004  NaN\n",
       "67  NaN       NaN  NaN       NaN  1.0\n",
       "68  NaN       NaN  NaN  1.000000  NaN\n",
       "69  NaN       NaN  1.0       NaN  NaN\n",
       "..   ..       ...  ...       ...  ...\n",
       "463 NaN  1.000000  NaN       NaN  NaN\n",
       "464 NaN       NaN  1.0       NaN  NaN\n",
       "465 NaN       NaN  NaN       NaN  1.0\n",
       "466 NaN       NaN  NaN  1.000000  NaN\n",
       "467 NaN  1.000000  NaN       NaN  NaN\n",
       "\n",
       "[403 rows x 5 columns]"
      ]
     },
     "execution_count": 254,
     "metadata": {},
     "output_type": "execute_result"
    }
   ],
   "source": [
    "counts[65:]"
   ]
  },
  {
   "cell_type": "code",
   "execution_count": 301,
   "metadata": {},
   "outputs": [
    {
     "name": "stderr",
     "output_type": "stream",
     "text": [
      "/var/folders/pj/0dd0rqzj219164nwyh4f2l580000gn/T/ipykernel_63133/482433499.py:12: UserWarning: FixedFormatter should only be used together with FixedLocator\n",
      "  ax.set_yticklabels(['{:3.2f}%'.format(x*100) for x in vals], fontsize = 30)\n"
     ]
    },
    {
     "ename": "OSError",
     "evalue": "[Errno 30] Read-only file system: 'align_me_ba2by.png'",
     "output_type": "error",
     "traceback": [
      "\u001b[0;31m---------------------------------------------------------------------------\u001b[0m",
      "\u001b[0;31mOSError\u001b[0m                                   Traceback (most recent call last)",
      "\u001b[1;32mUntitled-1.ipynb Cell 13'\u001b[0m in \u001b[0;36m<cell line: 18>\u001b[0;34m()\u001b[0m\n\u001b[1;32m     <a href='vscode-notebook-cell:Untitled-1.ipynb?jupyter-notebook#ch0000009untitled?line=15'>16</a>\u001b[0m ax\u001b[39m.\u001b[39mset_axisbelow(\u001b[39mTrue\u001b[39;00m)\n\u001b[1;32m     <a href='vscode-notebook-cell:Untitled-1.ipynb?jupyter-notebook#ch0000009untitled?line=16'>17</a>\u001b[0m plt\u001b[39m.\u001b[39mlegend(loc\u001b[39m=\u001b[39m\u001b[39m2\u001b[39m, prop\u001b[39m=\u001b[39m{\u001b[39m'\u001b[39m\u001b[39msize\u001b[39m\u001b[39m'\u001b[39m: \u001b[39m20\u001b[39m})\n\u001b[0;32m---> <a href='vscode-notebook-cell:Untitled-1.ipynb?jupyter-notebook#ch0000009untitled?line=17'>18</a>\u001b[0m fig\u001b[39m.\u001b[39;49msavefig(\u001b[39m'\u001b[39;49m\u001b[39malign_me_ba2by.png\u001b[39;49m\u001b[39m'\u001b[39;49m)\n\u001b[1;32m     <a href='vscode-notebook-cell:Untitled-1.ipynb?jupyter-notebook#ch0000009untitled?line=18'>19</a>\u001b[0m plt\u001b[39m.\u001b[39mshow()\n",
      "File \u001b[0;32m~/miniconda3/envs/tf/lib/python3.9/site-packages/matplotlib/figure.py:3019\u001b[0m, in \u001b[0;36mFigure.savefig\u001b[0;34m(self, fname, transparent, **kwargs)\u001b[0m\n\u001b[1;32m   <a href='file:///Users/sergiomares/miniconda3/envs/tf/lib/python3.9/site-packages/matplotlib/figure.py?line=3014'>3015</a>\u001b[0m     \u001b[39mfor\u001b[39;00m ax \u001b[39min\u001b[39;00m \u001b[39mself\u001b[39m\u001b[39m.\u001b[39maxes:\n\u001b[1;32m   <a href='file:///Users/sergiomares/miniconda3/envs/tf/lib/python3.9/site-packages/matplotlib/figure.py?line=3015'>3016</a>\u001b[0m         stack\u001b[39m.\u001b[39menter_context(\n\u001b[1;32m   <a href='file:///Users/sergiomares/miniconda3/envs/tf/lib/python3.9/site-packages/matplotlib/figure.py?line=3016'>3017</a>\u001b[0m             ax\u001b[39m.\u001b[39mpatch\u001b[39m.\u001b[39m_cm_set(facecolor\u001b[39m=\u001b[39m\u001b[39m'\u001b[39m\u001b[39mnone\u001b[39m\u001b[39m'\u001b[39m, edgecolor\u001b[39m=\u001b[39m\u001b[39m'\u001b[39m\u001b[39mnone\u001b[39m\u001b[39m'\u001b[39m))\n\u001b[0;32m-> <a href='file:///Users/sergiomares/miniconda3/envs/tf/lib/python3.9/site-packages/matplotlib/figure.py?line=3018'>3019</a>\u001b[0m \u001b[39mself\u001b[39;49m\u001b[39m.\u001b[39;49mcanvas\u001b[39m.\u001b[39;49mprint_figure(fname, \u001b[39m*\u001b[39;49m\u001b[39m*\u001b[39;49mkwargs)\n",
      "File \u001b[0;32m~/miniconda3/envs/tf/lib/python3.9/site-packages/matplotlib/backend_bases.py:2319\u001b[0m, in \u001b[0;36mFigureCanvasBase.print_figure\u001b[0;34m(self, filename, dpi, facecolor, edgecolor, orientation, format, bbox_inches, pad_inches, bbox_extra_artists, backend, **kwargs)\u001b[0m\n\u001b[1;32m   <a href='file:///Users/sergiomares/miniconda3/envs/tf/lib/python3.9/site-packages/matplotlib/backend_bases.py?line=2314'>2315</a>\u001b[0m \u001b[39mtry\u001b[39;00m:\n\u001b[1;32m   <a href='file:///Users/sergiomares/miniconda3/envs/tf/lib/python3.9/site-packages/matplotlib/backend_bases.py?line=2315'>2316</a>\u001b[0m     \u001b[39m# _get_renderer may change the figure dpi (as vector formats\u001b[39;00m\n\u001b[1;32m   <a href='file:///Users/sergiomares/miniconda3/envs/tf/lib/python3.9/site-packages/matplotlib/backend_bases.py?line=2316'>2317</a>\u001b[0m     \u001b[39m# force the figure dpi to 72), so we need to set it again here.\u001b[39;00m\n\u001b[1;32m   <a href='file:///Users/sergiomares/miniconda3/envs/tf/lib/python3.9/site-packages/matplotlib/backend_bases.py?line=2317'>2318</a>\u001b[0m     \u001b[39mwith\u001b[39;00m cbook\u001b[39m.\u001b[39m_setattr_cm(\u001b[39mself\u001b[39m\u001b[39m.\u001b[39mfigure, dpi\u001b[39m=\u001b[39mdpi):\n\u001b[0;32m-> <a href='file:///Users/sergiomares/miniconda3/envs/tf/lib/python3.9/site-packages/matplotlib/backend_bases.py?line=2318'>2319</a>\u001b[0m         result \u001b[39m=\u001b[39m print_method(\n\u001b[1;32m   <a href='file:///Users/sergiomares/miniconda3/envs/tf/lib/python3.9/site-packages/matplotlib/backend_bases.py?line=2319'>2320</a>\u001b[0m             filename,\n\u001b[1;32m   <a href='file:///Users/sergiomares/miniconda3/envs/tf/lib/python3.9/site-packages/matplotlib/backend_bases.py?line=2320'>2321</a>\u001b[0m             facecolor\u001b[39m=\u001b[39;49mfacecolor,\n\u001b[1;32m   <a href='file:///Users/sergiomares/miniconda3/envs/tf/lib/python3.9/site-packages/matplotlib/backend_bases.py?line=2321'>2322</a>\u001b[0m             edgecolor\u001b[39m=\u001b[39;49medgecolor,\n\u001b[1;32m   <a href='file:///Users/sergiomares/miniconda3/envs/tf/lib/python3.9/site-packages/matplotlib/backend_bases.py?line=2322'>2323</a>\u001b[0m             orientation\u001b[39m=\u001b[39;49morientation,\n\u001b[1;32m   <a href='file:///Users/sergiomares/miniconda3/envs/tf/lib/python3.9/site-packages/matplotlib/backend_bases.py?line=2323'>2324</a>\u001b[0m             bbox_inches_restore\u001b[39m=\u001b[39;49m_bbox_inches_restore,\n\u001b[1;32m   <a href='file:///Users/sergiomares/miniconda3/envs/tf/lib/python3.9/site-packages/matplotlib/backend_bases.py?line=2324'>2325</a>\u001b[0m             \u001b[39m*\u001b[39;49m\u001b[39m*\u001b[39;49mkwargs)\n\u001b[1;32m   <a href='file:///Users/sergiomares/miniconda3/envs/tf/lib/python3.9/site-packages/matplotlib/backend_bases.py?line=2325'>2326</a>\u001b[0m \u001b[39mfinally\u001b[39;00m:\n\u001b[1;32m   <a href='file:///Users/sergiomares/miniconda3/envs/tf/lib/python3.9/site-packages/matplotlib/backend_bases.py?line=2326'>2327</a>\u001b[0m     \u001b[39mif\u001b[39;00m bbox_inches \u001b[39mand\u001b[39;00m restore_bbox:\n",
      "File \u001b[0;32m~/miniconda3/envs/tf/lib/python3.9/site-packages/matplotlib/backend_bases.py:1648\u001b[0m, in \u001b[0;36m_check_savefig_extra_args.<locals>.wrapper\u001b[0;34m(*args, **kwargs)\u001b[0m\n\u001b[1;32m   <a href='file:///Users/sergiomares/miniconda3/envs/tf/lib/python3.9/site-packages/matplotlib/backend_bases.py?line=1639'>1640</a>\u001b[0m     _api\u001b[39m.\u001b[39mwarn_deprecated(\n\u001b[1;32m   <a href='file:///Users/sergiomares/miniconda3/envs/tf/lib/python3.9/site-packages/matplotlib/backend_bases.py?line=1640'>1641</a>\u001b[0m         \u001b[39m'\u001b[39m\u001b[39m3.3\u001b[39m\u001b[39m'\u001b[39m, name\u001b[39m=\u001b[39mname, removal\u001b[39m=\u001b[39m\u001b[39m'\u001b[39m\u001b[39m3.6\u001b[39m\u001b[39m'\u001b[39m,\n\u001b[1;32m   <a href='file:///Users/sergiomares/miniconda3/envs/tf/lib/python3.9/site-packages/matplotlib/backend_bases.py?line=1641'>1642</a>\u001b[0m         message\u001b[39m=\u001b[39m\u001b[39m'\u001b[39m\u001b[39m%(name)s\u001b[39;00m\u001b[39m() got unexpected keyword argument \u001b[39m\u001b[39m\"\u001b[39m\u001b[39m'\u001b[39m\n\u001b[1;32m   <a href='file:///Users/sergiomares/miniconda3/envs/tf/lib/python3.9/site-packages/matplotlib/backend_bases.py?line=1642'>1643</a>\u001b[0m                 \u001b[39m+\u001b[39m arg \u001b[39m+\u001b[39m \u001b[39m'\u001b[39m\u001b[39m\"\u001b[39m\u001b[39m which is no longer supported as of \u001b[39m\u001b[39m'\u001b[39m\n\u001b[1;32m   <a href='file:///Users/sergiomares/miniconda3/envs/tf/lib/python3.9/site-packages/matplotlib/backend_bases.py?line=1643'>1644</a>\u001b[0m                 \u001b[39m'\u001b[39m\u001b[39m%(since)s\u001b[39;00m\u001b[39m and will become an error \u001b[39m\u001b[39m'\u001b[39m\n\u001b[1;32m   <a href='file:///Users/sergiomares/miniconda3/envs/tf/lib/python3.9/site-packages/matplotlib/backend_bases.py?line=1644'>1645</a>\u001b[0m                 \u001b[39m'\u001b[39m\u001b[39m%(removal)s\u001b[39;00m\u001b[39m'\u001b[39m)\n\u001b[1;32m   <a href='file:///Users/sergiomares/miniconda3/envs/tf/lib/python3.9/site-packages/matplotlib/backend_bases.py?line=1645'>1646</a>\u001b[0m     kwargs\u001b[39m.\u001b[39mpop(arg)\n\u001b[0;32m-> <a href='file:///Users/sergiomares/miniconda3/envs/tf/lib/python3.9/site-packages/matplotlib/backend_bases.py?line=1647'>1648</a>\u001b[0m \u001b[39mreturn\u001b[39;00m func(\u001b[39m*\u001b[39;49margs, \u001b[39m*\u001b[39;49m\u001b[39m*\u001b[39;49mkwargs)\n",
      "File \u001b[0;32m~/miniconda3/envs/tf/lib/python3.9/site-packages/matplotlib/_api/deprecation.py:412\u001b[0m, in \u001b[0;36mdelete_parameter.<locals>.wrapper\u001b[0;34m(*inner_args, **inner_kwargs)\u001b[0m\n\u001b[1;32m    <a href='file:///Users/sergiomares/miniconda3/envs/tf/lib/python3.9/site-packages/matplotlib/_api/deprecation.py?line=401'>402</a>\u001b[0m     deprecation_addendum \u001b[39m=\u001b[39m (\n\u001b[1;32m    <a href='file:///Users/sergiomares/miniconda3/envs/tf/lib/python3.9/site-packages/matplotlib/_api/deprecation.py?line=402'>403</a>\u001b[0m         \u001b[39mf\u001b[39m\u001b[39m\"\u001b[39m\u001b[39mIf any parameter follows \u001b[39m\u001b[39m{\u001b[39;00mname\u001b[39m!r}\u001b[39;00m\u001b[39m, they should be passed as \u001b[39m\u001b[39m\"\u001b[39m\n\u001b[1;32m    <a href='file:///Users/sergiomares/miniconda3/envs/tf/lib/python3.9/site-packages/matplotlib/_api/deprecation.py?line=403'>404</a>\u001b[0m         \u001b[39mf\u001b[39m\u001b[39m\"\u001b[39m\u001b[39mkeyword, not positionally.\u001b[39m\u001b[39m\"\u001b[39m)\n\u001b[1;32m    <a href='file:///Users/sergiomares/miniconda3/envs/tf/lib/python3.9/site-packages/matplotlib/_api/deprecation.py?line=404'>405</a>\u001b[0m     warn_deprecated(\n\u001b[1;32m    <a href='file:///Users/sergiomares/miniconda3/envs/tf/lib/python3.9/site-packages/matplotlib/_api/deprecation.py?line=405'>406</a>\u001b[0m         since,\n\u001b[1;32m    <a href='file:///Users/sergiomares/miniconda3/envs/tf/lib/python3.9/site-packages/matplotlib/_api/deprecation.py?line=406'>407</a>\u001b[0m         name\u001b[39m=\u001b[39m\u001b[39mrepr\u001b[39m(name),\n\u001b[0;32m   (...)\u001b[0m\n\u001b[1;32m    <a href='file:///Users/sergiomares/miniconda3/envs/tf/lib/python3.9/site-packages/matplotlib/_api/deprecation.py?line=409'>410</a>\u001b[0m                  \u001b[39melse\u001b[39;00m deprecation_addendum,\n\u001b[1;32m    <a href='file:///Users/sergiomares/miniconda3/envs/tf/lib/python3.9/site-packages/matplotlib/_api/deprecation.py?line=410'>411</a>\u001b[0m         \u001b[39m*\u001b[39m\u001b[39m*\u001b[39mkwargs)\n\u001b[0;32m--> <a href='file:///Users/sergiomares/miniconda3/envs/tf/lib/python3.9/site-packages/matplotlib/_api/deprecation.py?line=411'>412</a>\u001b[0m \u001b[39mreturn\u001b[39;00m func(\u001b[39m*\u001b[39;49minner_args, \u001b[39m*\u001b[39;49m\u001b[39m*\u001b[39;49minner_kwargs)\n",
      "File \u001b[0;32m~/miniconda3/envs/tf/lib/python3.9/site-packages/matplotlib/backends/backend_agg.py:541\u001b[0m, in \u001b[0;36mFigureCanvasAgg.print_png\u001b[0;34m(self, filename_or_obj, metadata, pil_kwargs, *args)\u001b[0m\n\u001b[1;32m    <a href='file:///Users/sergiomares/miniconda3/envs/tf/lib/python3.9/site-packages/matplotlib/backends/backend_agg.py?line=493'>494</a>\u001b[0m \u001b[39m\"\"\"\u001b[39;00m\n\u001b[1;32m    <a href='file:///Users/sergiomares/miniconda3/envs/tf/lib/python3.9/site-packages/matplotlib/backends/backend_agg.py?line=494'>495</a>\u001b[0m \u001b[39mWrite the figure to a PNG file.\u001b[39;00m\n\u001b[1;32m    <a href='file:///Users/sergiomares/miniconda3/envs/tf/lib/python3.9/site-packages/matplotlib/backends/backend_agg.py?line=495'>496</a>\u001b[0m \n\u001b[0;32m   (...)\u001b[0m\n\u001b[1;32m    <a href='file:///Users/sergiomares/miniconda3/envs/tf/lib/python3.9/site-packages/matplotlib/backends/backend_agg.py?line=537'>538</a>\u001b[0m \u001b[39m    *metadata*, including the default 'Software' key.\u001b[39;00m\n\u001b[1;32m    <a href='file:///Users/sergiomares/miniconda3/envs/tf/lib/python3.9/site-packages/matplotlib/backends/backend_agg.py?line=538'>539</a>\u001b[0m \u001b[39m\"\"\"\u001b[39;00m\n\u001b[1;32m    <a href='file:///Users/sergiomares/miniconda3/envs/tf/lib/python3.9/site-packages/matplotlib/backends/backend_agg.py?line=539'>540</a>\u001b[0m FigureCanvasAgg\u001b[39m.\u001b[39mdraw(\u001b[39mself\u001b[39m)\n\u001b[0;32m--> <a href='file:///Users/sergiomares/miniconda3/envs/tf/lib/python3.9/site-packages/matplotlib/backends/backend_agg.py?line=540'>541</a>\u001b[0m mpl\u001b[39m.\u001b[39;49mimage\u001b[39m.\u001b[39;49mimsave(\n\u001b[1;32m    <a href='file:///Users/sergiomares/miniconda3/envs/tf/lib/python3.9/site-packages/matplotlib/backends/backend_agg.py?line=541'>542</a>\u001b[0m     filename_or_obj, \u001b[39mself\u001b[39;49m\u001b[39m.\u001b[39;49mbuffer_rgba(), \u001b[39mformat\u001b[39;49m\u001b[39m=\u001b[39;49m\u001b[39m\"\u001b[39;49m\u001b[39mpng\u001b[39;49m\u001b[39m\"\u001b[39;49m, origin\u001b[39m=\u001b[39;49m\u001b[39m\"\u001b[39;49m\u001b[39mupper\u001b[39;49m\u001b[39m\"\u001b[39;49m,\n\u001b[1;32m    <a href='file:///Users/sergiomares/miniconda3/envs/tf/lib/python3.9/site-packages/matplotlib/backends/backend_agg.py?line=542'>543</a>\u001b[0m     dpi\u001b[39m=\u001b[39;49m\u001b[39mself\u001b[39;49m\u001b[39m.\u001b[39;49mfigure\u001b[39m.\u001b[39;49mdpi, metadata\u001b[39m=\u001b[39;49mmetadata, pil_kwargs\u001b[39m=\u001b[39;49mpil_kwargs)\n",
      "File \u001b[0;32m~/miniconda3/envs/tf/lib/python3.9/site-packages/matplotlib/image.py:1675\u001b[0m, in \u001b[0;36mimsave\u001b[0;34m(fname, arr, vmin, vmax, cmap, format, origin, dpi, metadata, pil_kwargs)\u001b[0m\n\u001b[1;32m   <a href='file:///Users/sergiomares/miniconda3/envs/tf/lib/python3.9/site-packages/matplotlib/image.py?line=1672'>1673</a>\u001b[0m pil_kwargs\u001b[39m.\u001b[39msetdefault(\u001b[39m\"\u001b[39m\u001b[39mformat\u001b[39m\u001b[39m\"\u001b[39m, \u001b[39mformat\u001b[39m)\n\u001b[1;32m   <a href='file:///Users/sergiomares/miniconda3/envs/tf/lib/python3.9/site-packages/matplotlib/image.py?line=1673'>1674</a>\u001b[0m pil_kwargs\u001b[39m.\u001b[39msetdefault(\u001b[39m\"\u001b[39m\u001b[39mdpi\u001b[39m\u001b[39m\"\u001b[39m, (dpi, dpi))\n\u001b[0;32m-> <a href='file:///Users/sergiomares/miniconda3/envs/tf/lib/python3.9/site-packages/matplotlib/image.py?line=1674'>1675</a>\u001b[0m image\u001b[39m.\u001b[39;49msave(fname, \u001b[39m*\u001b[39;49m\u001b[39m*\u001b[39;49mpil_kwargs)\n",
      "File \u001b[0;32m~/miniconda3/envs/tf/lib/python3.9/site-packages/PIL/Image.py:2169\u001b[0m, in \u001b[0;36mImage.save\u001b[0;34m(self, fp, format, **params)\u001b[0m\n\u001b[1;32m   <a href='file:///Users/sergiomares/miniconda3/envs/tf/lib/python3.9/site-packages/PIL/Image.py?line=2166'>2167</a>\u001b[0m         fp \u001b[39m=\u001b[39m builtins\u001b[39m.\u001b[39mopen(filename, \u001b[39m\"\u001b[39m\u001b[39mr+b\u001b[39m\u001b[39m\"\u001b[39m)\n\u001b[1;32m   <a href='file:///Users/sergiomares/miniconda3/envs/tf/lib/python3.9/site-packages/PIL/Image.py?line=2167'>2168</a>\u001b[0m     \u001b[39melse\u001b[39;00m:\n\u001b[0;32m-> <a href='file:///Users/sergiomares/miniconda3/envs/tf/lib/python3.9/site-packages/PIL/Image.py?line=2168'>2169</a>\u001b[0m         fp \u001b[39m=\u001b[39m builtins\u001b[39m.\u001b[39;49mopen(filename, \u001b[39m\"\u001b[39;49m\u001b[39mw+b\u001b[39;49m\u001b[39m\"\u001b[39;49m)\n\u001b[1;32m   <a href='file:///Users/sergiomares/miniconda3/envs/tf/lib/python3.9/site-packages/PIL/Image.py?line=2170'>2171</a>\u001b[0m \u001b[39mtry\u001b[39;00m:\n\u001b[1;32m   <a href='file:///Users/sergiomares/miniconda3/envs/tf/lib/python3.9/site-packages/PIL/Image.py?line=2171'>2172</a>\u001b[0m     save_handler(\u001b[39mself\u001b[39m, fp, filename)\n",
      "\u001b[0;31mOSError\u001b[0m: [Errno 30] Read-only file system: 'align_me_ba2by.png'"
     ]
    },
    {
     "data": {
      "image/png": "[encoded data removed]",
      "text/plain": [
       "<Figure size 3600x720 with 1 Axes>"
      ]
     },
     "metadata": {
      "needs_background": "light"
     },
     "output_type": "display_data"
    }
   ],
   "source": [
    "import matplotlib.pyplot as plt\n",
    "import numpy as np\n",
    "from matplotlib.pyplot import figure\n",
    "\n",
    "\n",
    "counts = a.apply(lambda x: x.value_counts() / len(x)).transpose()\n",
    "fig = plt.figure()\n",
    "plt.rcParams[\"figure.figsize\"] = [50,10]\n",
    "ax = fig.add_subplot()\n",
    "counts.plot(ax=ax,kind='bar', width = 1, stacked=True, rot=0, edgecolor = \"black\")\n",
    "vals = ax.get_yticks()\n",
    "ax.set_yticklabels(['{:3.2f}%'.format(x*100) for x in vals], fontsize = 30)\n",
    "plt.ylabel('Freq. (n = 467', fontsize = 30)\n",
    "ax.yaxis.grid(False)\n",
    "plt.xticks(rotation = 90, fontsize= 1)\n",
    "ax.set_axisbelow(True)\n",
    "plt.legend(loc=2, prop={'size': 20})\n",
    "fig.savefig('align_me_ba2by.png')\n",
    "plt.show()\n",
    "\n",
    "\n"
   ]
  }
 ],
 "metadata": {
  "interpreter": {
   "hash": "2f646d4ef99cc77c24b9c9cc62dfeb7dfe7a4accaf7fa953c578a4c8213dd3d5"
  },
  "kernelspec": {
   "display_name": "Python 3.9.10 ('tf')",
   "language": "python",
   "name": "python3"
  },
  "language_info": {
   "codemirror_mode": {
    "name": "ipython",
    "version": 3
   },
   "file_extension": ".py",
   "mimetype": "text/x-python",
   "name": "python",
   "nbconvert_exporter": "python",
   "pygments_lexer": "ipython3",
   "version": "3.9.10"
  },
  "orig_nbformat": 4
 },
 "nbformat": 4,
 "nbformat_minor": 2
}
