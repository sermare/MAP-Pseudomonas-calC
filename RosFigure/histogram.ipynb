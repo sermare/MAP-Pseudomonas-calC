{
 "cells": [
  {
   "cell_type": "code",
   "execution_count": 1,
   "metadata": {},
   "outputs": [
    {
     "data": {
      "text/html": [
       "<div>\n",
       "<style scoped>\n",
       "    .dataframe tbody tr th:only-of-type {\n",
       "        vertical-align: middle;\n",
       "    }\n",
       "\n",
       "    .dataframe tbody tr th {\n",
       "        vertical-align: top;\n",
       "    }\n",
       "\n",
       "    .dataframe thead th {\n",
       "        text-align: right;\n",
       "    }\n",
       "</style>\n",
       "<table border=\"1\" class=\"dataframe\">\n",
       "  <thead>\n",
       "    <tr style=\"text-align: right;\">\n",
       "      <th></th>\n",
       "      <th>CF</th>\n",
       "      <th>Non-CF</th>\n",
       "      <th>Environmental</th>\n",
       "    </tr>\n",
       "  </thead>\n",
       "  <tbody>\n",
       "    <tr>\n",
       "      <th>0</th>\n",
       "      <td>99.79</td>\n",
       "      <td>99.57</td>\n",
       "      <td>98.08</td>\n",
       "    </tr>\n",
       "    <tr>\n",
       "      <th>1</th>\n",
       "      <td>99.57</td>\n",
       "      <td>99.79</td>\n",
       "      <td>99.79</td>\n",
       "    </tr>\n",
       "    <tr>\n",
       "      <th>2</th>\n",
       "      <td>98.08</td>\n",
       "      <td>99.57</td>\n",
       "      <td>99.79</td>\n",
       "    </tr>\n",
       "    <tr>\n",
       "      <th>3</th>\n",
       "      <td>99.79</td>\n",
       "      <td>99.79</td>\n",
       "      <td>99.79</td>\n",
       "    </tr>\n",
       "    <tr>\n",
       "      <th>4</th>\n",
       "      <td>99.79</td>\n",
       "      <td>99.57</td>\n",
       "      <td>99.57</td>\n",
       "    </tr>\n",
       "    <tr>\n",
       "      <th>...</th>\n",
       "      <td>...</td>\n",
       "      <td>...</td>\n",
       "      <td>...</td>\n",
       "    </tr>\n",
       "    <tr>\n",
       "      <th>648</th>\n",
       "      <td>NaN</td>\n",
       "      <td>99.79</td>\n",
       "      <td>NaN</td>\n",
       "    </tr>\n",
       "    <tr>\n",
       "      <th>649</th>\n",
       "      <td>NaN</td>\n",
       "      <td>99.79</td>\n",
       "      <td>NaN</td>\n",
       "    </tr>\n",
       "    <tr>\n",
       "      <th>650</th>\n",
       "      <td>NaN</td>\n",
       "      <td>99.57</td>\n",
       "      <td>NaN</td>\n",
       "    </tr>\n",
       "    <tr>\n",
       "      <th>651</th>\n",
       "      <td>NaN</td>\n",
       "      <td>99.79</td>\n",
       "      <td>NaN</td>\n",
       "    </tr>\n",
       "    <tr>\n",
       "      <th>652</th>\n",
       "      <td>NaN</td>\n",
       "      <td>99.57</td>\n",
       "      <td>NaN</td>\n",
       "    </tr>\n",
       "  </tbody>\n",
       "</table>\n",
       "<p>653 rows × 3 columns</p>\n",
       "</div>"
      ],
      "text/plain": [
       "        CF  Non-CF  Environmental\n",
       "0    99.79   99.57          98.08\n",
       "1    99.57   99.79          99.79\n",
       "2    98.08   99.57          99.79\n",
       "3    99.79   99.79          99.79\n",
       "4    99.79   99.57          99.57\n",
       "..     ...     ...            ...\n",
       "648    NaN   99.79            NaN\n",
       "649    NaN   99.79            NaN\n",
       "650    NaN   99.57            NaN\n",
       "651    NaN   99.79            NaN\n",
       "652    NaN   99.57            NaN\n",
       "\n",
       "[653 rows x 3 columns]"
      ]
     },
     "execution_count": 1,
     "metadata": {},
     "output_type": "execute_result"
    }
   ],
   "source": [
    "import pandas as pd\n",
    "import numpy as np\n",
    "import matplotlib.pyplot as plt \n",
    "\n",
    "df = pd.read_csv(\"/Users/sergiomares/Desktop/Escritorio - MacBook Air de Sergio/MAP/efHp Rosalies Figure/Libro1.csv\", header = 0)\n",
    "df"
   ]
  },
  {
   "cell_type": "code",
   "execution_count": 109,
   "metadata": {},
   "outputs": [
    {
     "data": {
      "text/plain": [
       "0      98.08\n",
       "1      99.79\n",
       "2      99.79\n",
       "3      99.79\n",
       "4      99.57\n",
       "       ...  \n",
       "180    99.57\n",
       "181    99.79\n",
       "182    99.57\n",
       "183    99.79\n",
       "184    94.62\n",
       "Name: Environmental, Length: 185, dtype: float64"
      ]
     },
     "execution_count": 109,
     "metadata": {},
     "output_type": "execute_result"
    }
   ],
   "source": [
    "df1 = df['Environmental'].dropna()\n",
    "df1"
   ]
  },
  {
   "cell_type": "code",
   "execution_count": 87,
   "metadata": {},
   "outputs": [
    {
     "data": {
      "image/png": "[encoded data removed]",
      "text/plain": [
       "<Figure size 864x720 with 1 Axes>"
      ]
     },
     "metadata": {
      "needs_background": "light"
     },
     "output_type": "display_data"
    }
   ],
   "source": [
    "from matplotlib.pyplot import figure\n",
    "\n",
    "fig, ax = plt.subplots()\n",
    "\n",
    "#Labels \n",
    "ax.set_xlabel('Sequence Identity (%)', fontsize = 20)\n",
    "plt.ylabel('Count', fontsize = 22)\n",
    "\n",
    "#Ticks\n",
    "ax.set_xticks(np.arange(min(df['Environmental']), 100, 0.3))\n",
    "plt.xticks(rotation = 45, fontsize= 10)\n",
    "plt.yticks(fontsize = 15)\n",
    "\n",
    "#Data for Histogram\n",
    "ax.hist(df['CF'], fc=('red'), alpha=0.3, bins = 70)\n",
    "ax.hist(df['Non-CF'], fc=('blue'), alpha=0.3, bins = 60)\n",
    "ax.hist(df['Environmental'], fc=('green'), alpha=0.3, bins = 60)\n",
    "\n",
    "#Legend\n",
    "plt.legend(df.columns,loc=2, prop={'size': 20})\n",
    "\n",
    "#Figure size\n",
    "plt.rcParams[\"figure.figsize\"] = [12,10]\n",
    "\n",
    "#Save Plot\n",
    "fig.savefig('plot_histogram.png')"
   ]
  },
  {
   "cell_type": "code",
   "execution_count": null,
   "metadata": {},
   "outputs": [],
   "source": []
  }
 ],
 "metadata": {
  "interpreter": {
   "hash": "2f646d4ef99cc77c24b9c9cc62dfeb7dfe7a4accaf7fa953c578a4c8213dd3d5"
  },
  "kernelspec": {
   "display_name": "Python 3.9.10 ('tf')",
   "language": "python",
   "name": "python3"
  },
  "language_info": {
   "codemirror_mode": {
    "name": "ipython",
    "version": 3
   },
   "file_extension": ".py",
   "mimetype": "text/x-python",
   "name": "python",
   "nbconvert_exporter": "python",
   "pygments_lexer": "ipython3",
   "version": "3.9.10"
  },
  "orig_nbformat": 4
 },
 "nbformat": 4,
 "nbformat_minor": 2
}
